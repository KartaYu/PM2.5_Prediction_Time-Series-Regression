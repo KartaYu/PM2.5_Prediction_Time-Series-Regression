{
  "cells": [
    {
      "cell_type": "code",
      "execution_count": null,
      "metadata": {
        "id": "HcbuEW_Dh21X"
      },
      "outputs": [],
      "source": [
        "import pandas as pd\n",
        "import numpy as np\n",
        "import matplotlib.pyplot as plt\n",
        "from sklearn.linear_model import LinearRegression\n",
        "from xgboost import XGBRegressor\n",
        "from sklearn.metrics import mean_absolute_error\n",
        "# pd.set_option('display.max_rows', 10000)\n",
        "# pd.set_option('display.max_columns', 10000)"
      ]
    },
    {
      "cell_type": "markdown",
      "metadata": {},
      "source": [
        "* 資料清理\n"
      ]
    },
    {
      "cell_type": "code",
      "execution_count": null,
      "metadata": {
        "id": "ZWHBOKgR86Lr"
      },
      "outputs": [],
      "source": [
        "def fill(df): # 填充缺值\n",
        "  for i in range(0, 1650): # 1650 行需特殊處理，因此停在這\n",
        "    for j in range(2, len(df.columns)):\n",
        "      if df.iloc[i, j] == -1:\n",
        "        df.iloc[i, j] = (find_value(df, i, j, 0) + find_value(df, i, j, 1))/2\n",
        "  "
      ]
    },
    {
      "cell_type": "code",
      "execution_count": null,
      "metadata": {
        "id": "QxUKJZ1J9OVq"
      },
      "outputs": [],
      "source": [
        "def find_value(df, x, y, z): # x is row, y is col, z is finding left or right [0:left, 1:right]\n",
        "  if(z == 0):\n",
        "    for i in range(y-1, 1, -1): # 往前推算\n",
        "      if df.iloc[x, i] != -1:\n",
        "        # print(x, i) # 確認找到的index與vlaue\n",
        "        return df.iloc[x, i]\n",
        "    return find_value(df, x-18, len(df.columns), 0)\n",
        "  \n",
        "  else:\n",
        "    for i in range(y+1, len(df.columns)): # 往後推算\n",
        "      if df.iloc[x, i] != -1:\n",
        "        # print(x, i) \n",
        "        return df.iloc[x, i]\n",
        "    return find_value(df, x+18, 1, 1)"
      ]
    },
    {
      "cell_type": "code",
      "execution_count": null,
      "metadata": {
        "id": "6aHFaphbAZJj"
      },
      "outputs": [],
      "source": [
        "def split_dataset(df, df_y, hr): # hr為幾小時, dy_f為test set\n",
        "  # 切割x_train部分\n",
        "  x_train_all = []\n",
        "  x_train_pm25 = []\n",
        "\n",
        "  # 切割全部的feature為x\n",
        "  for i in range(0, df.shape[0]-hr):\n",
        "    for j in range(i, i+6):\n",
        "      x_train_all = np.concatenate((x_train_all, np.array(df.iloc[j, :])), axis=0)\n",
        "  \n",
        "  # 切割全部的pm2.5為x\n",
        "  for i in range(0, df.shape[0]-hr):\n",
        "    for j in range(i, i+6):\n",
        "      x_train_pm25 = np.concatenate((x_train_pm25, [np.array(df.iloc[j, 9])]), axis=0)\n",
        "  \n",
        "  print(x_train_all.shape)\n",
        "  print(x_train_pm25.shape)\n",
        "  \n",
        "  # 回傳前先reshape調整至適合的維度\n",
        "  return x_train_all.reshape(int(x_train_all.shape[0]/108), 108), x_train_pm25.reshape(int(x_train_pm25.shape[0]/6), 6), np.array(df_y, dtype=float).reshape(df_y.shape[0], 1)"
      ]
    },
    {
      "cell_type": "code",
      "execution_count": null,
      "metadata": {
        "id": "2NEQd2xuJmLG"
      },
      "outputs": [],
      "source": [
        "def evaluation_MAE(x_train, y_train, x_test, y_test, hr, label): # hr為預測的目標小時 , label用到的feature數\n",
        "  def linear_reg(x_train, y_train, x_test, y_test):\n",
        "    reg = LinearRegression(normalize=True, n_jobs=-1).fit(x_train, y_train)\n",
        "    y_pred = reg.predict(x_test)\n",
        "    print(\"使用LinearRegressior做為預測模型\")\n",
        "    # print(\"Acc : {}\".format(reg.score(x_train, y_train).round(4)))\n",
        "    if label == 1:\n",
        "      print(\"只用 PM2.5 Label 預測未來{0}小時的MAE : {1}\\n\".format(hr, mean_absolute_error(y_test, y_pred)))\n",
        "    else:\n",
        "      print(\"使用 全部的Label 預測未來{0}小時的MAE : {1}\\n\".format(hr, mean_absolute_error(y_test, y_pred)))\n",
        "    \n",
        "\n",
        "  def xgboost_reg(x_train,y_train, x_test, y_test):\n",
        "    reg = XGBRegressor(objective='reg:squarederror', n_jobs=-1).fit(x_train, y_train)\n",
        "    y_pred = reg.predict(x_test)\n",
        "    print(\"使用XGBRegressor做為預測模型\")\n",
        "    #　print(\"Acc : {}\".format(reg.score(x_train, y_train).round(4)))\n",
        "    if label == 1:\n",
        "      print(\"使用 PM 2.5 Label 預測未來{0}小時的MAE : {1} \\n\".format(hr, mean_absolute_error(y_test, y_pred)))\n",
        "    else:\n",
        "      print(\"使用 全部的Label 預測未來{0}小時的MAE : {1} \\n\".format(hr, mean_absolute_error(y_test, y_pred)))\n",
        " \n",
        "  linear_reg(x_train, y_train, x_test, y_test)\n",
        "  xgboost_reg(x_train, y_train, x_test, y_test)"
      ]
    },
    {
      "cell_type": "code",
      "execution_count": null,
      "metadata": {
        "colab": {
          "base_uri": "https://localhost:8080/",
          "height": 1000
        },
        "id": "Mhs5tCp0iw0U",
        "outputId": "7ca46524-c242-4282-ef23-a2c9e256f407"
      },
      "outputs": [],
      "source": [
        "df = pd.read_csv('新竹_2020.csv', encoding='big5')\n",
        "\n",
        "# 資料清理\n",
        "star_symbol = df.iloc[168, 23] # 取出星號的編碼值\n",
        "\n",
        "check = ['#', 'x', 'A']\n",
        "for x in check:\n",
        "  df.iloc[:, 3:]= df.iloc[:, 3:].replace(x, -1, regex=True) \n",
        "\n",
        "df = df.replace(star_symbol, -1) # 取代星號\n",
        "df = df.iloc[-1656:, :].reset_index().iloc[:, 2:] # 切割10,11,12月資料\n",
        "df.iloc[:, 2:] = df.iloc[:, 2:].astype('float')\n",
        "df.iloc[1650, 11:] = 3.75 # 最後一天的NO2的缺值，由於沒有1/1的資料所以取該天平均 \n",
        "fill(df)\n",
        "df = df.iloc[:, 1:] # 將觀測站和日期欄拿掉\n",
        "df"
      ]
    },
    {
      "cell_type": "code",
      "execution_count": null,
      "metadata": {
        "colab": {
          "base_uri": "https://localhost:8080/",
          "height": 1000
        },
        "id": "IrSoVQ22DnwQ",
        "outputId": "4dfd7a34-10ed-46bd-d953-59d449fbafb1"
      },
      "outputs": [],
      "source": [
        "T_df = df.iloc[0:18, 0:25].reset_index().T.iloc[1:, :]\n",
        "\n",
        "# 做矩陣轉置\n",
        "for i in range(18, 1655, 18):\n",
        "  T_df = pd.concat([T_df, df.iloc[i:i+18, 1:25].reset_index().T.iloc[1:, :]], ignore_index=True) # 轉置後合併\n",
        "\n",
        "T_df"
      ]
    },
    {
      "cell_type": "code",
      "execution_count": null,
      "metadata": {
        "colab": {
          "base_uri": "https://localhost:8080/"
        },
        "id": "yt-KOIHTtQHb",
        "outputId": "003831c9-e423-42e5-f889-0447c868ca5c"
      },
      "outputs": [],
      "source": [
        "train = T_df.iloc[1:1465, :] # 第一列為col inedx去除 10~11月資料\n",
        "test = T_df.iloc[1465:, :] # 12月資料\n",
        "\n",
        "x_train_all_feature_hr1, x_train_pm25_hr1, x_test_hr1 = split_dataset(train, T_df.iloc[7:1465, 9], 6)\n",
        "y_train_all_feature_hr1, y_train_pm25_hr1, y_test_hr1 = split_dataset(test, T_df.iloc[1465+6:, 9], 6)\n",
        "x_train_all_feature_hr6, x_train_pm25_hr6, x_test_hr6 = split_dataset(train, T_df.iloc[12:1465, 9], 11)\n",
        "y_train_all_feature_hr6, y_train_pm25_hr6, y_test_hr6 = split_dataset(test, T_df.iloc[1465+11:, 9], 11)\n",
        "\n",
        "\n",
        "# 確認資料是否正確用\n",
        "# pd.DataFrame(y_train_all_feature_hr6)\n",
        "# pd.DataFrame(y_train_pm25_hr6)\n",
        "# pd.DataFrame(y_test_hr6)\n",
        "# x_train_all_feature_hr1.shape\n",
        "# x_test_hr1.shape\n"
      ]
    },
    {
      "cell_type": "code",
      "execution_count": null,
      "metadata": {
        "colab": {
          "base_uri": "https://localhost:8080/"
        },
        "id": "VBcuIm849EbN",
        "outputId": "2be65af4-3d6a-4bc8-ddff-56df404300e0"
      },
      "outputs": [],
      "source": [
        "evaluation_MAE(x_train_pm25_hr1, x_test_hr1, y_train_pm25_hr1, y_test_hr1, 1, 1)\n",
        "evaluation_MAE(x_train_all_feature_hr1, x_test_hr1, y_train_all_feature_hr1, y_test_hr1, 1, 0)\n",
        "evaluation_MAE(x_train_pm25_hr6, x_test_hr6, y_train_pm25_hr6, y_test_hr6, 6, 1)\n",
        "evaluation_MAE(x_train_all_feature_hr6, x_test_hr6, y_train_all_feature_hr6, y_test_hr6, 6, 0)"
      ]
    }
  ],
  "metadata": {
    "colab": {
      "collapsed_sections": [],
      "name": "HW3.ipynb",
      "provenance": []
    },
    "interpreter": {
      "hash": "cef9e06bb236b2a8629b07e87a04b187b952a0f661eff5533360a155783f0c33"
    },
    "kernelspec": {
      "display_name": "Python 3.7.6 64-bit ('base': conda)",
      "name": "python3"
    },
    "language_info": {
      "codemirror_mode": {
        "name": "ipython",
        "version": 3
      },
      "file_extension": ".py",
      "mimetype": "text/x-python",
      "name": "python",
      "nbconvert_exporter": "python",
      "pygments_lexer": "ipython3",
      "version": "3.7.6"
    }
  },
  "nbformat": 4,
  "nbformat_minor": 0
}
